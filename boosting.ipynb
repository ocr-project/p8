{
    "metadata": {
        "kernelspec": {
            "language": "python",
            "display_name": "Python 3",
            "name": "python3"
        },
        "language_info": {
            "name": "python",
            "version": "3.7.12",
            "mimetype": "text/x-python",
            "codemirror_mode": {
                "name": "ipython",
                "version": 3
            },
            "pygments_lexer": "ipython3",
            "nbconvert_exporter": "python",
            "file_extension": ".py"
        }
    },
    "nbformat_minor": 4,
    "nbformat": 4,
    "cells": [
        {
            "cell_type": "markdown",
            "source": "# Imports et définitions",
            "metadata": {}
        },
        {
            "cell_type": "code",
            "source": "import os\nimport torch\n\nclass Config:\n\n    NAME = \"NFLC-\" + \"Exp001-simple-xgb-baseline\"\n\n    COMPETITION = \"nfl-player-contact-detection\"\n\n    seed = 42\n    num_fold = 5\n    \n    xgb_params = {\n        'objective': 'binary:logistic',\n        'eval_metric': 'auc',\n        'learning_rate':0.03,\n        'tree_method':'hist' if not torch.cuda.is_available() else 'gpu_hist'\n    }",
            "metadata": {
                "_cell_guid": "b1076dfc-b9ad-4769-8c92-a6c4dae69d19",
                "_uuid": "8f2839f25d086af736a60e9eeb907d3b93b6e0e5",
                "papermill": {
                    "duration": 1.821487,
                    "end_time": "2022-12-07T03:20:25.870516",
                    "exception": false,
                    "start_time": "2022-12-07T03:20:24.049029",
                    "status": "completed"
                },
                "tags": [],
                "execution": {
                    "iopub.status.busy": "2023-01-30T23:57:16.131562Z",
                    "iopub.execute_input": "2023-01-30T23:57:16.132001Z",
                    "iopub.status.idle": "2023-01-30T23:57:18.708990Z",
                    "shell.execute_reply.started": "2023-01-30T23:57:16.131915Z",
                    "shell.execute_reply": "2023-01-30T23:57:18.707644Z"
                },
                "trusted": true
            },
            "execution_count": 1,
            "outputs": []
        },
        {
            "cell_type": "code",
            "source": "import os\nimport gc\nimport subprocess\n\nimport numpy as np\nimport pandas as pd\nimport matplotlib.pyplot as plt\nimport matplotlib.patches as patches\nfrom IPython.display import Video, display\n\nfrom scipy.optimize import *\nimport cv2\nfrom glob import glob\nfrom tqdm import tqdm\n\nfrom sklearn.model_selection import GroupKFold\nfrom sklearn.metrics import (\n    roc_auc_score,\n    matthews_corrcoef,\n)\n\nimport xgboost as xgb\n\nimport torch\n\nif torch.cuda.is_available():\n    import cupy \n    import cudf\n    from cuml import ForestInference",
            "metadata": {
                "papermill": {
                    "duration": 3.784112,
                    "end_time": "2022-12-07T03:20:29.658809",
                    "exception": false,
                    "start_time": "2022-12-07T03:20:25.874697",
                    "status": "completed"
                },
                "tags": [],
                "execution": {
                    "iopub.status.busy": "2023-01-30T23:57:18.714178Z",
                    "iopub.execute_input": "2023-01-30T23:57:18.714850Z",
                    "iopub.status.idle": "2023-01-30T23:57:23.778692Z",
                    "shell.execute_reply.started": "2023-01-30T23:57:18.714787Z",
                    "shell.execute_reply": "2023-01-30T23:57:23.777522Z"
                },
                "trusted": true
            },
            "execution_count": 2,
            "outputs": []
        },
        {
            "cell_type": "code",
            "source": "def setup(cfg):\n    cfg.device = torch.device('cuda' if torch.cuda.is_available() else 'cpu')\n    \n    # set dirs\n    cfg.INPUT = f'../input/{cfg.COMPETITION}'\n    cfg.EXP = cfg.NAME\n    cfg.OUTPUT_EXP = cfg.NAME\n    cfg.SUBMISSION = './'\n    cfg.DATASET = '../input/'\n\n    cfg.EXP_MODEL = os.path.join(cfg.EXP, 'model')\n    cfg.EXP_FIG = os.path.join(cfg.EXP, 'fig')\n    cfg.EXP_PREDS = os.path.join(cfg.EXP, 'preds')\n\n    # make dirs\n    for d in [cfg.EXP_MODEL, cfg.EXP_FIG, cfg.EXP_PREDS]:\n        os.makedirs(d, exist_ok=True)\n        \n    return cfg",
            "metadata": {
                "papermill": {
                    "duration": 0.013001,
                    "end_time": "2022-12-07T03:20:29.67479",
                    "exception": false,
                    "start_time": "2022-12-07T03:20:29.661789",
                    "status": "completed"
                },
                "tags": [],
                "execution": {
                    "iopub.status.busy": "2023-01-30T23:57:23.782597Z",
                    "iopub.execute_input": "2023-01-30T23:57:23.782947Z",
                    "iopub.status.idle": "2023-01-30T23:57:23.792267Z",
                    "shell.execute_reply.started": "2023-01-30T23:57:23.782916Z",
                    "shell.execute_reply": "2023-01-30T23:57:23.791142Z"
                },
                "trusted": true
            },
            "execution_count": 3,
            "outputs": []
        },
        {
            "cell_type": "code",
            "source": "def add_contact_id(df):\n    # Create contact ids\n    df[\"contact_id\"] = (\n        df[\"game_play\"]\n        + \"_\"\n        + df[\"step\"].astype(\"str\")\n        + \"_\"\n        + df[\"nfl_player_id_1\"].astype(\"str\")\n        + \"_\"\n        + df[\"nfl_player_id_2\"].astype(\"str\")\n    )\n    return df\n\ndef expand_contact_id(df):\n    \"\"\"\n    Splits out contact_id into seperate columns.\n    \"\"\"\n    df[\"game_play\"] = df[\"contact_id\"].str[:12]\n    df[\"step\"] = df[\"contact_id\"].str.split(\"_\").str[-3].astype(\"int\")\n    df[\"nfl_player_id_1\"] = df[\"contact_id\"].str.split(\"_\").str[-2]\n    df[\"nfl_player_id_2\"] = df[\"contact_id\"].str.split(\"_\").str[-1]\n    return df\n\n# cross validation\ndef get_groupkfold(train, target_col, group_col, n_splits):\n    kf = GroupKFold(n_splits=n_splits)\n    generator = kf.split(train, train[target_col], train[group_col])\n    fold_series = []\n    for fold, (idx_train, idx_valid) in enumerate(generator):\n        fold_series.append(pd.Series(fold, index=idx_valid))\n    fold_series = pd.concat(fold_series).sort_index()\n    return fold_series\n\n# xgboost code\ndef fit_xgboost(cfg, X, y, params, add_suffix=''):\n    \"\"\"\n    xgb_params = {\n        'objective': 'binary:logistic',\n        'eval_metric': 'auc',\n        'learning_rate':0.01,\n        'tree_method':'gpu_hist'\n    }\n    \"\"\"\n    oof_pred = np.zeros(len(y), dtype=np.float32)\n    for fold in sorted(cfg.folds.unique()):\n        if fold == -1: continue\n        idx_train = (cfg.folds!=fold)\n        idx_valid = (cfg.folds==fold)\n        x_train, y_train = X[idx_train], y[idx_train]\n        x_valid, y_valid = X[idx_valid], y[idx_valid]\n        display(pd.Series(y_valid).value_counts())\n\n        xgb_train = xgb.DMatrix(x_train, label=y_train)\n        xgb_valid = xgb.DMatrix(x_valid, label=y_valid)\n        evals = [(xgb_train,'train'),(xgb_valid,'eval')]\n\n        model = xgb.train(\n            params,\n            xgb_train,\n            num_boost_round=10_000,\n            early_stopping_rounds=100,\n            evals=evals,\n            verbose_eval=100,\n        )\n\n        model_path = os.path.join(cfg.EXP_MODEL, f'xgb_fold{fold}{add_suffix}.model')\n        model.save_model(model_path)\n        if not torch.cuda.is_available():\n            model = xgb.Booster().load_model(model_path)\n        else:\n            model = ForestInference.load(model_path, output_class=True, model_type='xgboost')\n        pred_i = model.predict_proba(x_valid)[:, 1]\n        oof_pred[x_valid.index] = pred_i\n        score = round(roc_auc_score(y_valid, pred_i), 5)\n        print(f'Performance of the prediction: {score}\\n')\n        del model; gc.collect()\n\n    np.save(os.path.join(cfg.EXP_PREDS, f'oof_pred{add_suffix}'), oof_pred)\n    score = round(roc_auc_score(y, oof_pred), 5)\n    print(f'All Performance of the prediction: {score}')\n    return oof_pred\n\ndef pred_xgboost(X, data_dir, add_suffix=''):\n    models = glob(os.path.join(data_dir, f'xgb_fold*{add_suffix}.model'))\n    if not torch.cuda.is_available():\n         models = [xgb.Booster().load_model(model_path) for model in models]\n    else:\n        models = [ForestInference.load(model, output_class=True, model_type='xgboost') for model in models]\n    preds = np.array([model.predict_proba(X)[:, 1] for model in models])\n    preds = np.mean(preds, axis=0)\n    return preds",
            "metadata": {
                "papermill": {
                    "duration": 0.024362,
                    "end_time": "2022-12-07T03:20:29.701824",
                    "exception": false,
                    "start_time": "2022-12-07T03:20:29.677462",
                    "status": "completed"
                },
                "tags": [],
                "execution": {
                    "iopub.status.busy": "2023-01-30T23:57:23.795816Z",
                    "iopub.execute_input": "2023-01-30T23:57:23.796631Z",
                    "iopub.status.idle": "2023-01-30T23:57:23.818852Z",
                    "shell.execute_reply.started": "2023-01-30T23:57:23.796587Z",
                    "shell.execute_reply": "2023-01-30T23:57:23.817690Z"
                },
                "trusted": true
            },
            "execution_count": 4,
            "outputs": []
        },
        {
            "cell_type": "markdown",
            "source": "# Chargement des données",
            "metadata": {}
        },
        {
            "cell_type": "code",
            "source": "cfg = setup(Config)\n\nif not torch.cuda.is_available():\n    tr_tracking = pd.read_csv(os.path.join(cfg.INPUT, 'train_player_trackings.csv'), parse_dates=[\"datetime\"])\n    te_tracking = pd.read_csv(os.path.join(cfg.INPUT, 'test_player_tracking.csv'), parse_dates=[\"datetime\"])\n    # tr_helmets = pd.read_csv(os.path.join(cfg.INPUT, 'train_baseline_helmets.csv'))\n    # te_helmets = pd.read_csv(os.path.join(cfg.INPUT, 'test_baseline_helmets.csv'))\n    # tr_video_metadata = pd.read_csv(os.path.join(cfg.INPUT, 'train_video_metadata.csv'))\n    # te_video_metadata = pd.read_csv(os.path.join(cfg.INPUT, 'test_video_metadata.csv'))\n    sub = pd.read_csv(os.path.join(cfg.INPUT, 'sample_submissions.csv'))\n\n    train = pd.read_csv(os.path.join(cfg.INPUT, 'train_labels.csv'), parse_dates=[\"datetime\"])\n    test = expand_contact_id(sub)\n    \nelse:\n    tr_tracking = cudf.read_csv(os.path.join(cfg.INPUT, 'train_player_tracking.csv'), parse_dates=[\"datetime\"])\n    te_tracking = cudf.read_csv(os.path.join(cfg.INPUT, 'test_player_tracking.csv'), parse_dates=[\"datetime\"])\n    # tr_helmets = cudf.read_csv(os.path.join(cfg.INPUT, 'train_baseline_helmets.csv'))\n    # te_helmets = cudf.read_csv(os.path.join(cfg.INPUT, 'test_baseline_helmets.csv'))\n    # tr_video_metadata = cudf.read_csv(os.path.join(cfg.INPUT, 'train_video_metadata.csv'))\n    # te_video_metadata = cudf.read_csv(os.path.join(cfg.INPUT, 'test_video_metadata.csv'))\n    sub = pd.read_csv(os.path.join(cfg.INPUT, 'sample_submission.csv'))\n\n    train = cudf.read_csv(os.path.join(cfg.INPUT, 'train_labels.csv'), parse_dates=[\"datetime\"])\n    test = cudf.DataFrame(expand_contact_id(sub))",
            "metadata": {
                "papermill": {
                    "duration": 12.63249,
                    "end_time": "2022-12-07T03:20:42.337211",
                    "exception": false,
                    "start_time": "2022-12-07T03:20:29.704721",
                    "status": "completed"
                },
                "tags": [],
                "execution": {
                    "iopub.status.busy": "2023-01-30T23:57:23.820342Z",
                    "iopub.execute_input": "2023-01-30T23:57:23.820689Z",
                    "iopub.status.idle": "2023-01-30T23:57:39.245230Z",
                    "shell.execute_reply.started": "2023-01-30T23:57:23.820660Z",
                    "shell.execute_reply": "2023-01-30T23:57:39.244112Z"
                },
                "trusted": true
            },
            "execution_count": 5,
            "outputs": []
        },
        {
            "cell_type": "markdown",
            "source": "# Identification et formatage des données utiles",
            "metadata": {
                "papermill": {
                    "duration": 0.002636,
                    "end_time": "2022-12-07T03:20:42.342986",
                    "exception": false,
                    "start_time": "2022-12-07T03:20:42.34035",
                    "status": "completed"
                },
                "tags": []
            }
        },
        {
            "cell_type": "code",
            "source": "def create_features(df, tr_tracking, merge_col=\"step\", use_cols=[\"x_position\", \"y_position\"]):\n    output_cols = []\n    df_combo = (\n        df.astype({\"nfl_player_id_1\": \"str\"})\n        .merge(\n            tr_tracking.astype({\"nfl_player_id\": \"str\"})[\n                [\"game_play\", merge_col, \"nfl_player_id\",] + use_cols\n            ],\n            left_on=[\"game_play\", merge_col, \"nfl_player_id_1\"],\n            right_on=[\"game_play\", merge_col, \"nfl_player_id\"],\n            how=\"left\",\n        )\n        .rename(columns={c: c+\"_1\" for c in use_cols})\n        .drop(\"nfl_player_id\", axis=1)\n        .merge(\n            tr_tracking.astype({\"nfl_player_id\": \"str\"})[\n                [\"game_play\", merge_col, \"nfl_player_id\"] + use_cols\n            ],\n            left_on=[\"game_play\", merge_col, \"nfl_player_id_2\"],\n            right_on=[\"game_play\", merge_col, \"nfl_player_id\"],\n            how=\"left\",\n        )\n        .drop(\"nfl_player_id\", axis=1)\n        .rename(columns={c: c+\"_2\" for c in use_cols})\n        .sort_values([\"game_play\", merge_col, \"nfl_player_id_1\", \"nfl_player_id_2\"])\n        .reset_index(drop=True)\n    )\n    output_cols += [c+\"_1\" for c in use_cols]\n    output_cols += [c+\"_2\" for c in use_cols]\n    \n    if (\"x_position\" in use_cols) & (\"y_position\" in use_cols):\n        index = df_combo['x_position_2'].notnull()\n        if torch.cuda.is_available():\n            index = index.to_array()\n        distance_arr = np.full(len(index), np.nan)\n        tmp_distance_arr = np.sqrt(\n            np.square(df_combo.loc[index, \"x_position_1\"] - df_combo.loc[index, \"x_position_2\"])\n            + np.square(df_combo.loc[index, \"y_position_1\"]- df_combo.loc[index, \"y_position_2\"])\n        )\n        if torch.cuda.is_available():\n            tmp_distance_arr = tmp_distance_arr.to_array()\n        distance_arr[index] = tmp_distance_arr\n        df_combo['distance'] = distance_arr\n        output_cols += [\"distance\"]\n        \n    df_combo['G_flug'] = (df_combo['nfl_player_id_2']==\"G\")\n    output_cols += [\"G_flug\"]\n    return df_combo, output_cols\n\n\nuse_cols = [\n    'x_position', 'y_position', 'speed', 'distance',\n    'direction', 'orientation', 'acceleration', 'sa'\n]\ntrain, feature_cols = create_features(train, tr_tracking, use_cols=use_cols)\ntest, feature_cols = create_features(test, te_tracking, use_cols=use_cols)\nif torch.cuda.is_available():\n    train = train.to_pandas()\n    test = test.to_pandas()\n\ndisplay(train)",
            "metadata": {
                "papermill": {
                    "duration": 7.825436,
                    "end_time": "2022-12-07T03:20:50.171042",
                    "exception": false,
                    "start_time": "2022-12-07T03:20:42.345606",
                    "status": "completed"
                },
                "tags": [],
                "execution": {
                    "iopub.status.busy": "2023-01-30T23:57:39.250903Z",
                    "iopub.execute_input": "2023-01-30T23:57:39.253795Z",
                    "iopub.status.idle": "2023-01-30T23:57:47.584828Z",
                    "shell.execute_reply.started": "2023-01-30T23:57:39.253749Z",
                    "shell.execute_reply": "2023-01-30T23:57:47.583518Z"
                }
            },
            "execution_count": null,
            "outputs": []
        },
        {
            "cell_type": "markdown",
            "source": "# Entrainement",
            "metadata": {}
        },
        {
            "cell_type": "code",
            "source": "train_X = train[feature_cols]\ntest_X = test[feature_cols]\ntrain_y = train['contact']\ncfg.folds = get_groupkfold(train, 'contact', 'game_play', cfg.num_fold)\ncfg.folds.to_csv(os.path.join(cfg.EXP_PREDS, 'folds.csv'), index=False)\n\noof_pred = fit_xgboost(cfg, train_X, train_y, cfg.xgb_params, add_suffix=\"_xgb_1st\")\nsub_pred = pred_xgboost(test_X, cfg.EXP_MODEL, add_suffix=\"_xgb_1st\")",
            "metadata": {
                "papermill": {
                    "duration": 258.802423,
                    "end_time": "2022-12-07T03:25:08.976971",
                    "exception": false,
                    "start_time": "2022-12-07T03:20:50.174548",
                    "status": "completed"
                },
                "tags": [],
                "execution": {
                    "iopub.status.busy": "2023-01-30T23:57:47.586589Z",
                    "iopub.execute_input": "2023-01-30T23:57:47.588057Z",
                    "iopub.status.idle": "2023-01-31T00:01:21.843950Z",
                    "shell.execute_reply.started": "2023-01-30T23:57:47.588010Z",
                    "shell.execute_reply": "2023-01-31T00:01:21.842723Z"
                },
                "trusted": true
            },
            "execution_count": 7,
            "outputs": [
                {
                    "output_type": "display_data",
                    "data": {
                        "text/plain": "0    931283\n1     13045\nName: contact, dtype: int64"
                    },
                    "metadata": {}
                },
                {
                    "name": "stdout",
                    "text": "[0]\ttrain-auc:0.98312\teval-auc:0.98086\n[100]\ttrain-auc:0.98895\teval-auc:0.98633\n[200]\ttrain-auc:0.99035\teval-auc:0.98717\n[300]\ttrain-auc:0.99117\teval-auc:0.98757\n[400]\ttrain-auc:0.99175\teval-auc:0.98785\n[500]\ttrain-auc:0.99260\teval-auc:0.98817\n[600]\ttrain-auc:0.99330\teval-auc:0.98833\n[700]\ttrain-auc:0.99382\teval-auc:0.98844\n[800]\ttrain-auc:0.99425\teval-auc:0.98854\n[900]\ttrain-auc:0.99461\teval-auc:0.98856\n[1000]\ttrain-auc:0.99495\teval-auc:0.98854\n[1041]\ttrain-auc:0.99508\teval-auc:0.98852\nPerformance of the prediction: 0.98852\n\n",
                    "output_type": "stream"
                },
                {
                    "output_type": "display_data",
                    "data": {
                        "text/plain": "0    933738\n1     11976\nName: contact, dtype: int64"
                    },
                    "metadata": {}
                },
                {
                    "name": "stdout",
                    "text": "[0]\ttrain-auc:0.98265\teval-auc:0.98327\n[100]\ttrain-auc:0.98796\teval-auc:0.98897\n[200]\ttrain-auc:0.98967\teval-auc:0.98981\n[300]\ttrain-auc:0.99052\teval-auc:0.99032\n[400]\ttrain-auc:0.99116\teval-auc:0.99037\n[500]\ttrain-auc:0.99202\teval-auc:0.99050\n[596]\ttrain-auc:0.99264\teval-auc:0.99049\nPerformance of the prediction: 0.99049\n\n",
                    "output_type": "stream"
                },
                {
                    "output_type": "display_data",
                    "data": {
                        "text/plain": "0    930355\n1     13841\nName: contact, dtype: int64"
                    },
                    "metadata": {}
                },
                {
                    "name": "stdout",
                    "text": "[0]\ttrain-auc:0.98339\teval-auc:0.98260\n[100]\ttrain-auc:0.98886\teval-auc:0.98665\n[200]\ttrain-auc:0.99045\teval-auc:0.98721\n[300]\ttrain-auc:0.99115\teval-auc:0.98738\n[400]\ttrain-auc:0.99187\teval-auc:0.98769\n[500]\ttrain-auc:0.99273\teval-auc:0.98792\n[600]\ttrain-auc:0.99334\teval-auc:0.98802\n[700]\ttrain-auc:0.99387\teval-auc:0.98809\n[800]\ttrain-auc:0.99435\teval-auc:0.98807\n[838]\ttrain-auc:0.99446\teval-auc:0.98807\nPerformance of the prediction: 0.98807\n\n",
                    "output_type": "stream"
                },
                {
                    "output_type": "display_data",
                    "data": {
                        "text/plain": "0    932335\n1     11355\nName: contact, dtype: int64"
                    },
                    "metadata": {}
                },
                {
                    "name": "stdout",
                    "text": "[0]\ttrain-auc:0.98183\teval-auc:0.98722\n[100]\ttrain-auc:0.98789\teval-auc:0.99093\n[200]\ttrain-auc:0.98959\teval-auc:0.99133\n[300]\ttrain-auc:0.99044\teval-auc:0.99150\n[400]\ttrain-auc:0.99111\teval-auc:0.99164\n[500]\ttrain-auc:0.99185\teval-auc:0.99167\n[600]\ttrain-auc:0.99251\teval-auc:0.99177\n[700]\ttrain-auc:0.99299\teval-auc:0.99179\n[800]\ttrain-auc:0.99342\teval-auc:0.99177\n[856]\ttrain-auc:0.99367\teval-auc:0.99173\nPerformance of the prediction: 0.99173\n\n",
                    "output_type": "stream"
                },
                {
                    "output_type": "display_data",
                    "data": {
                        "text/plain": "0    929385\n1     14305\nName: contact, dtype: int64"
                    },
                    "metadata": {}
                },
                {
                    "name": "stdout",
                    "text": "[0]\ttrain-auc:0.98402\teval-auc:0.97895\n[100]\ttrain-auc:0.98908\teval-auc:0.98480\n[200]\ttrain-auc:0.99042\teval-auc:0.98615\n[300]\ttrain-auc:0.99136\teval-auc:0.98692\n[400]\ttrain-auc:0.99198\teval-auc:0.98699\n[500]\ttrain-auc:0.99280\teval-auc:0.98730\n[600]\ttrain-auc:0.99335\teval-auc:0.98715\n[630]\ttrain-auc:0.99349\teval-auc:0.98716\nPerformance of the prediction: 0.98718\n\nAll Performance of the prediction: 0.98917\n",
                    "output_type": "stream"
                }
            ]
        },
        {
            "cell_type": "code",
            "source": "def func(x_list):\n    score = matthews_corrcoef(train['contact'], oof_pred>x_list[0])\n    return -score",
            "metadata": {
                "papermill": {
                    "duration": 44.530134,
                    "end_time": "2022-12-07T03:25:53.514767",
                    "exception": false,
                    "start_time": "2022-12-07T03:25:08.984633",
                    "status": "completed"
                },
                "tags": [],
                "execution": {
                    "iopub.status.busy": "2023-01-31T00:01:21.845546Z",
                    "iopub.execute_input": "2023-01-31T00:01:21.845977Z",
                    "iopub.status.idle": "2023-01-31T00:01:21.852792Z",
                    "shell.execute_reply.started": "2023-01-31T00:01:21.845936Z",
                    "shell.execute_reply": "2023-01-31T00:01:21.851599Z"
                },
                "trusted": true
            },
            "execution_count": 8,
            "outputs": []
        },
        {
            "cell_type": "markdown",
            "source": "# Production des résultats",
            "metadata": {}
        },
        {
            "cell_type": "code",
            "source": "x0 = [0.5]\nresult = minimize(func, x0,  method=\"nelder-mead\")\ncfg.threshold = result.x[0]\nprint(\"score:\", round(matthews_corrcoef(train['contact'], oof_pred>cfg.threshold), 5))\nprint(\"threshold\", round(cfg.threshold, 5))",
            "metadata": {
                "execution": {
                    "iopub.status.busy": "2023-01-31T00:01:21.854606Z",
                    "iopub.execute_input": "2023-01-31T00:01:21.855041Z",
                    "iopub.status.idle": "2023-01-31T00:02:11.202634Z",
                    "shell.execute_reply.started": "2023-01-31T00:01:21.854998Z",
                    "shell.execute_reply": "2023-01-31T00:02:11.201436Z"
                },
                "trusted": true
            },
            "execution_count": 9,
            "outputs": [
                {
                    "name": "stdout",
                    "text": "score: 0.58108\nthreshold 0.2877\n",
                    "output_type": "stream"
                }
            ]
        },
        {
            "cell_type": "code",
            "source": "test = add_contact_id(test)\ntest['contact'] = (sub_pred > cfg.threshold).astype(int)\ndisplay(test[['contact_id', 'contact']].head())",
            "metadata": {
                "execution": {
                    "iopub.status.busy": "2023-01-31T00:02:11.206512Z",
                    "iopub.execute_input": "2023-01-31T00:02:11.206892Z",
                    "iopub.status.idle": "2023-01-31T00:02:11.282538Z",
                    "shell.execute_reply.started": "2023-01-31T00:02:11.206859Z",
                    "shell.execute_reply": "2023-01-31T00:02:11.281530Z"
                },
                "trusted": true
            },
            "execution_count": 10,
            "outputs": [
                {
                    "output_type": "display_data",
                    "data": {
                        "text/plain": "                   contact_id  contact\n0  58168_003392_0_37084_37211        0\n1  58168_003392_0_37084_38556        0\n2  58168_003392_0_37084_38567        0\n3  58168_003392_0_37084_38590        0\n4  58168_003392_0_37084_39947        0",
                        "text/html": "<div>\n<style scoped>\n    .dataframe tbody tr th:only-of-type {\n        vertical-align: middle;\n    }\n\n    .dataframe tbody tr th {\n        vertical-align: top;\n    }\n\n    .dataframe thead th {\n        text-align: right;\n    }\n</style>\n<table border=\"1\" class=\"dataframe\">\n  <thead>\n    <tr style=\"text-align: right;\">\n      <th></th>\n      <th>contact_id</th>\n      <th>contact</th>\n    </tr>\n  </thead>\n  <tbody>\n    <tr>\n      <th>0</th>\n      <td>58168_003392_0_37084_37211</td>\n      <td>0</td>\n    </tr>\n    <tr>\n      <th>1</th>\n      <td>58168_003392_0_37084_38556</td>\n      <td>0</td>\n    </tr>\n    <tr>\n      <th>2</th>\n      <td>58168_003392_0_37084_38567</td>\n      <td>0</td>\n    </tr>\n    <tr>\n      <th>3</th>\n      <td>58168_003392_0_37084_38590</td>\n      <td>0</td>\n    </tr>\n    <tr>\n      <th>4</th>\n      <td>58168_003392_0_37084_39947</td>\n      <td>0</td>\n    </tr>\n  </tbody>\n</table>\n</div>"
                    },
                    "metadata": {}
                }
            ]
        },
        {
            "cell_type": "code",
            "source": "test[['contact_id', 'contact']].to_csv('submission.csv', index=False)",
            "metadata": {
                "execution": {
                    "iopub.status.busy": "2023-01-31T00:02:11.283866Z",
                    "iopub.execute_input": "2023-01-31T00:02:11.284741Z",
                    "iopub.status.idle": "2023-01-31T00:02:11.355824Z",
                    "shell.execute_reply.started": "2023-01-31T00:02:11.284702Z",
                    "shell.execute_reply": "2023-01-31T00:02:11.354772Z"
                },
                "trusted": true
            },
            "execution_count": 11,
            "outputs": []
        },
        {
            "cell_type": "code",
            "source": "",
            "metadata": {},
            "execution_count": null,
            "outputs": []
        }
    ]
}